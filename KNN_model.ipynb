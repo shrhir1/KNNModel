{
  "cells": [
    {
      "cell_type": "markdown",
      "metadata": {
        "id": "uKXBTppKzxb9"
      },
      "source": [
        "#KNN Model"
      ]
    },
    {
      "cell_type": "markdown",
      "metadata": {
        "id": "S3cwjnNfzxb_"
      },
      "source": [
        "\n",
        "\n",
        "The goal of this assignment is to use Python to build a KNN model that is suitable for a given classification task."
      ]
    },
    {
      "cell_type": "markdown",
      "metadata": {
        "id": "tfhtBO-hzxcA"
      },
      "source": [
        "#### Part 1.  \n",
        "Build a KNN to do handwritten digits prediction. The data consists of grey-scale images of handwritten digits. Each image is a set of pixels stored as a vector.\n",
        "\n",
        "Code below is to import the necessary packages. You may import additional packages if the extra libraries help you plot, get accuracy scores, etc. We would be happy to learn what other packages are useful in those scenarios.\n",
        "For any portion related to implementing KNN or normalization, I would not recommend importing other libraries since we will be checking if your code demonstrates your understanding of the concepts.  For example, if you applied normalization using a packaged method, we can't determine if you understood the normalization process, and we cannot award you points."
      ]
    },
    {
      "cell_type": "code",
      "execution_count": 24,
      "metadata": {
        "id": "4sWIQ4rVzxcB"
      },
      "outputs": [],
      "source": [
        "#I recommend understanding the purpose of each package we are loading below.\n",
        "from sklearn.datasets import load_digits, load_wine\n",
        "import numpy as np\n",
        "import matplotlib.pyplot as plt\n",
        "import pandas as pd\n",
        "import numpy as np\n",
        "import sklearn.datasets\n",
        "import numpy as np\n",
        "import pandas as pd\n",
        "from sklearn.model_selection import train_test_split\n",
        "from sklearn.metrics import  accuracy_score\n",
        "import matplotlib.pyplot as plt\n",
        "from sklearn.model_selection import KFold\n",
        "%matplotlib inline"
      ]
    },
    {
      "cell_type": "markdown",
      "metadata": {
        "id": "Bpl7pGMWzxcC"
      },
      "source": [
        "Load the MNIST dataset. (Can take up to 3 minutes.) `x` stores the images and `y` stores the labels. For an image i, $x_{i}$ is a vector of its pixel values, and $y_{i}$ is its label. $y_{i} \\in [1,2,3,4,5,6,7,8,9,0] $ ."
      ]
    },
    {
      "cell_type": "code",
      "execution_count": 25,
      "metadata": {
        "id": "55ALFUkbzxcC"
      },
      "outputs": [],
      "source": [
        "mnist = sklearn.datasets.fetch_openml('mnist_784')\n",
        "x = mnist.data.to_numpy(dtype= np.int64)\n",
        "y = mnist.target.to_numpy(dtype= np.int64)"
      ]
    },
    {
      "cell_type": "markdown",
      "metadata": {
        "id": "uGCBaBCgzxcD"
      },
      "source": [
        "Separate training and testing data randomly."
      ]
    },
    {
      "cell_type": "code",
      "execution_count": 26,
      "metadata": {
        "colab": {
          "base_uri": "https://localhost:8080/"
        },
        "id": "vMB5dZFczxcD",
        "outputId": "6744a8fa-b430-4ae9-a73f-7b6ba7470981"
      },
      "outputs": [
        {
          "output_type": "stream",
          "name": "stdout",
          "text": [
            "(2000, 784)\n",
            "(500, 784)\n",
            "(2000,)\n",
            "(500,)\n"
          ]
        }
      ],
      "source": [
        "X_train, X_test, Y_train, Y_test = train_test_split(\n",
        "    x[:2500], y[:2500], test_size=0.2, random_state=123, stratify=y[:2500])\n",
        "print(X_train.shape)\n",
        "print(X_test.shape)\n",
        "print(Y_train.shape)\n",
        "print(Y_test.shape)\n"
      ]
    },
    {
      "cell_type": "markdown",
      "metadata": {
        "id": "oXJu8DpwzxcE"
      },
      "source": [
        "#### 1.1 (5 points)\n",
        "\n",
        "For convinence, we have created a class object `knn` for storing our KNN model. Please fill in the missing instance methods. You are free to modify the input parameters or add additional instance methods. Make sure your code outputs the responses our questions ask for.\n",
        "\n",
        "Instance method `fit` is the training process. For KNN, it is simply storing the training dataset.\n",
        "\n",
        "Instance method `distance` is a function that takes in two vectors (samples of data) and returns the distance between the two vectors. (1.5 points)\n",
        "\n",
        "Hint: Try your best to avoid using for loops in `self.distance`. Or it might take too long for KNN to compute. However, no point will be deducted for using for loops.\n",
        "\n",
        "Instance method `predict` uses the KNN method to predict a given set of digit images. If the input is an N-y-d-dimensional matrix, where d is the number of features and N is the number of samples, the output should be an N-dimensional vector. (3 points)\n",
        "\n",
        "Hint: Here are some useful numpy functions to help you achieve your goal: np.square, np.sqrt, np.zeros, np.ones, np.argsort, np.bincount, np.linalg.norm, np.dot, np.equal, np.mean, np.argmax\n",
        "\n",
        "Instance method `score` produces the test accuracy of the KNN model when running on a test dataset. Test accuracy is the percentage of the test data that is correctly classified. (Hint: you will first need to call `self.predict` to label the input test data.) (0.5 points)\n"
      ]
    },
    {
      "cell_type": "code",
      "execution_count": 27,
      "metadata": {
        "id": "R-168janzxcE"
      },
      "outputs": [],
      "source": [
        "class knn:\n",
        "  def __init__(self, k):\n",
        "    self.k = k\n",
        "    self.X_train = None\n",
        "    self.Y_train = None\n",
        "\n",
        "  def fit(self, X, Y):\n",
        "    self.X_train = X\n",
        "    self.Y_train = Y\n",
        "\n",
        "\n",
        "  def distance(self, x1, x2):\n",
        "    return np.linalg.norm(x1 - x2)\n",
        "\n",
        "          # returns the distance between two vectors\n",
        "          # Use L2 norm as your distance function here.\n",
        "          # your solution here\n",
        "          # problem 1.1.1 , 1.5 points\n",
        "          #pass\n",
        "\n",
        "  def predict(self, x_test):\n",
        "    predictions = []\n",
        "\n",
        "    for test_point in x_test:\n",
        "      distances = np.array([self.distance(test_point, train_point)\n",
        "      for train_point in self.X_train])\n",
        "\n",
        "      nearest_indices = np.argsort(distances)[:self.k]\n",
        "\n",
        "      nearest_labels = self.Y_train[nearest_indices]\n",
        "\n",
        "      predicted_label = np.bincount(nearest_labels.flatten().astype(int)).argmax()\n",
        "\n",
        "      predictions.append(predicted_label)\n",
        "\n",
        "    return np.array(predictions)\n",
        "\n",
        "\n",
        "          # returns the predictions for multiple examples X\n",
        "          # your solution here\n",
        "          # problem 1.1.2 , 3 points\n",
        "          #pass\n",
        "\n",
        "\n",
        "  def score(self, x_test, y_test):\n",
        "    y_pred = self.predict(x_test)\n",
        "    return np.mean(y_pred == y_test)\n",
        "          # Return the accuracy of your model on the test dataset.\n",
        "          # problem 1.1.3, 0.5 point\n",
        "          #pass\n",
        "\n"
      ]
    },
    {
      "cell_type": "markdown",
      "metadata": {
        "id": "4BTxUh95zxcE"
      },
      "source": [
        "Compare the accuracy using our KNN model with the accuracy using Sklearn KNN to see if we have implemented KNN correctly. The two accuracy scores should be fairly close."
      ]
    },
    {
      "cell_type": "code",
      "execution_count": 28,
      "metadata": {
        "colab": {
          "base_uri": "https://localhost:8080/"
        },
        "id": "C4YUC-NZzxcF",
        "outputId": "99e40fb8-ac14-405c-84d2-5aeb1c6962ae"
      },
      "outputs": [
        {
          "output_type": "stream",
          "name": "stdout",
          "text": [
            "sklearn_knn_score: 0.912\n",
            "our_knn_score: 0.912\n"
          ]
        }
      ],
      "source": [
        "from sklearn.neighbors import KNeighborsClassifier\n",
        "sklearn_knn = KNeighborsClassifier(n_neighbors = 5)\n",
        "sklearn_knn.fit(X_train, Y_train)\n",
        "sklearn_knn_score = sklearn_knn.score(X_test, Y_test)\n",
        "print(\"sklearn_knn_score:\", sklearn_knn_score)\n",
        "\n",
        "our_knn = knn(k = 5)\n",
        "our_knn.fit(X_train, Y_train)\n",
        "our_knn_score = our_knn.score(X_test, Y_test)\n",
        "print(\"our_knn_score:\", our_knn_score)\n"
      ]
    },
    {
      "cell_type": "markdown",
      "metadata": {
        "id": "_2EbmwqJzxcF"
      },
      "source": [
        "Let's visualize the images that are being misclassified and compare them to the ones that are correctly classified. This will help us to see the potential problems of our model. You can change the code below to see more images."
      ]
    },
    {
      "cell_type": "code",
      "execution_count": 29,
      "metadata": {
        "id": "eHJ0yR7LzxcF"
      },
      "outputs": [],
      "source": [
        "Y_pred = our_knn.predict(X_test)\n",
        "\n",
        "incorrect = [i for i, x in enumerate(Y_pred!=Y_test) if x]\n",
        "correct = [i for i, x in enumerate(Y_pred==Y_test) if x]"
      ]
    },
    {
      "cell_type": "code",
      "execution_count": 30,
      "metadata": {
        "colab": {
          "base_uri": "https://localhost:8080/",
          "height": 221
        },
        "id": "9bhvnbSizxcG",
        "outputId": "feb127e2-43e3-4c38-da91-40b3dc262bf7"
      },
      "outputs": [
        {
          "output_type": "display_data",
          "data": {
            "text/plain": [
              "<Figure size 2000x2000 with 8 Axes>"
            ],
            "image/png": "[encoded data removed]"
          },
          "metadata": {}
        }
      ],
      "source": [
        "NUM_OF_IMAGES = 8 # number of images to display\n",
        "_, axes = plt.subplots(nrows=1, ncols=NUM_OF_IMAGES, figsize=(20, 20))\n",
        "START = 0 # start index of the images to display, you can change this if you wish\n",
        "for ax, ind in zip(axes, list(range(START,START+NUM_OF_IMAGES))):\n",
        "    ax.set_axis_off()\n",
        "    image = X_test[incorrect[ind]].reshape(28, 28)\n",
        "    ax.imshow(image, cmap=plt.cm.gray_r, interpolation=\"nearest\")\n",
        "    ax.set_title(f\"Prediction: {Y_pred[incorrect[ind]]}\")\n"
      ]
    },
    {
      "cell_type": "code",
      "execution_count": 31,
      "metadata": {
        "colab": {
          "base_uri": "https://localhost:8080/",
          "height": 221
        },
        "id": "q1J5fM-6zxcG",
        "outputId": "661aa809-399b-45a1-e0d9-bb053a740d88"
      },
      "outputs": [
        {
          "output_type": "display_data",
          "data": {
            "text/plain": [
              "<Figure size 2000x2000 with 8 Axes>"
            ],
            "image/png": "[encoded data removed]"
          },
          "metadata": {}
        }
      ],
      "source": [
        "\n",
        "_, axes = plt.subplots(nrows=1, ncols=NUM_OF_IMAGES, figsize=(20, 20))\n",
        "START = 120 # start index of the images to display, you can change this if you wish\n",
        "for ax, ind in zip(axes, list(range(START,START+NUM_OF_IMAGES))):\n",
        "    ax.set_axis_off()\n",
        "    image = X_test[correct[ind]].reshape(28, 28)\n",
        "    ax.imshow(image, cmap=plt.cm.gray_r, interpolation=\"nearest\")\n",
        "    ax.set_title(f\"Prediction: {Y_pred[correct[ind]]}\")"
      ]
    },
    {
      "cell_type": "markdown",
      "metadata": {
        "id": "wtwbdtdQzxcG"
      },
      "source": [
        "#### 1.2 (4 points)\n",
        "\n",
        "\n",
        "Test the training and test accuracy using any sets of k-values ($k \\in \\mathbb{Z}^{+}$, at least 10 different k-values in your set)  and plot the results with the x axis as the values of the k-value you picked and the y axis as the accuracies.\n",
        "You can plot it on two separate graphs or the same one. Please retain the code you used to generate your results in the code cell below. Make sure to clearly label which plot is for the training accuracy and which plot is for the test accuracy. The type of graph you choose has to indicate the trend you observe clearly.\n",
        "\n",
        "Good time to grab a coffee if it takes too long to run.\n",
        "\n",
        "NOTE: Use the KNN model you built for this task. For generating training accuracy, you can add a new method similar to the `score` method, but it instead outputs training accuracy instead of test accuracy.\n",
        "\n",
        "\n",
        "Plot(s) (2 point)\n",
        "\n",
        "**Answer the following questions**\n",
        "\n",
        "What is the trend of your plot?        (1 point) <br/>\n",
        "Answer:\n",
        "\n",
        "From the plot, you can see that as the number of neighbors (k) increases, the training accuracy slowly goes down. That makes sense because with fewer neighbors, the model is more flexible and tends to memorize the training data, which results in very high accuracy. As you increase k, the model becomes more generalized and less likely to overfit. The test accuracy, on the other hand, starts off a bit lower, climbs up slightly, and then begins to drop again after a certain point.\n",
        "\n",
        "Which k value produces the optimal results? (Which k produces the highest test accuracy?)    (1 point)<br/>\n",
        "Answer:\n",
        "The best results come when k is set to 3. That’s where the test accuracy is the highest, around 0.918.\n"
      ]
    },
    {
      "cell_type": "code",
      "execution_count": 32,
      "metadata": {
        "colab": {
          "base_uri": "https://localhost:8080/",
          "height": 642
        },
        "id": "vFkfGUHHzxcH",
        "outputId": "78a767ad-82e3-4564-a5b7-d58057b05058"
      },
      "outputs": [
        {
          "output_type": "stream",
          "name": "stdout",
          "text": [
            "Optimal k: 3\n",
            "Test score: 0.918\n"
          ]
        },
        {
          "output_type": "display_data",
          "data": {
            "text/plain": [
              "<Figure size 1000x600 with 1 Axes>"
            ],
            "image/png": "[encoded data removed]"
          },
          "metadata": {}
        }
      ],
      "source": [
        "# Code for plots (2 points as mentioned above)\n",
        "k_values = range(1, 21)\n",
        "\n",
        "train_list = []\n",
        "test_list = []\n",
        "\n",
        "for k in k_values:\n",
        "    our_knn = knn(k=k)\n",
        "    our_knn.fit(X_train, Y_train)\n",
        "\n",
        "    train_score = our_knn.score(X_train, Y_train)\n",
        "    test_score = our_knn.score(X_test, Y_test)\n",
        "\n",
        "    train_list.append(train_score)\n",
        "    test_list.append(test_score)\n",
        "\n",
        "optimal_k_index = np.argmax(test_list)\n",
        "optimal_k = k_values[optimal_k_index]\n",
        "optimal_score = test_list[optimal_k_index]\n",
        "\n",
        "print(\"Optimal k:\", optimal_k)\n",
        "print(\"Test score:\", optimal_score)\n",
        "\n",
        "plt.figure(figsize=(10, 6))\n",
        "plt.plot(k_values, train_list, label='Training Accuracy')\n",
        "plt.plot(k_values, test_list, label='Test Accuracy', color='red')\n",
        "plt.title(\"Training and Test Accuracy for KNN\")\n",
        "plt.xlabel(\"k (Number of Neighbors)\")\n",
        "plt.ylabel(\"Accuracy\")\n",
        "plt.legend()\n",
        "plt.grid(True)\n",
        "plt.tight_layout()\n",
        "plt.show()\n",
        "\n",
        "#Got help from ChatGPT to understand the concept"
      ]
    },
    {
      "cell_type": "markdown",
      "metadata": {
        "id": "oOtWO8NjzxcI"
      },
      "source": [
        "#### 1.3 (5 points)\n",
        "\n",
        "Choose one other distance function from below or create your own distance function. Below is a list of distance functions that you could try. You can use the optimal k-value from Q1.2; however, in the real world, we would need to find the optimal k-value again with the new distance function. Create a new `knn` class if you need to, but not necessary.\n",
        "\n",
        "1. Manhattan Distance\n",
        "2. Cosine Distance\n",
        "3. L-Infinity norm\n"
      ]
    },
    {
      "cell_type": "code",
      "execution_count": 33,
      "metadata": {
        "colab": {
          "base_uri": "https://localhost:8080/"
        },
        "id": "Qa64d0XTzxcI",
        "outputId": "d763442f-1cf4-4adf-d029-23864dedfcc7"
      },
      "outputs": [
        {
          "output_type": "stream",
          "name": "stdout",
          "text": [
            "our_knn_score: 0.91\n"
          ]
        }
      ],
      "source": [
        "\"\"\"\n",
        "You can use built-in Numpy methods to implement your distance formula\n",
        "but be sure to understand what equations those methods are using,\n",
        "as well as commenting on the formula that those methods use.\n",
        "\"\"\"\n",
        "# Write the Python implementation here (1.5 points)\n",
        "\n",
        "class knn_manhattan:\n",
        "    def __init__(self, k):\n",
        "        self.k = k\n",
        "        self.X_train = None\n",
        "        self.Y_train = None\n",
        "\n",
        "    def fit(self, X, Y):\n",
        "        self.X_train = X\n",
        "        self.Y_train = Y\n",
        "\n",
        "    def distance(self, x1, x2):\n",
        "        # chose the Manhattan Distance - L1 norm\n",
        "        # The formula is the sum of absolute differences\n",
        "        return np.sum(np.abs(x1 - x2))\n",
        "\n",
        "    def predict(self, x_test):\n",
        "        predictions = []\n",
        "\n",
        "        for test_point in x_test:\n",
        "            distances = np.array([self.distance(test_point, x) for x in self.X_train])\n",
        "            nearest_indices = np.argsort(distances)[:self.k]\n",
        "            nearest_labels = self.Y_train[nearest_indices]\n",
        "            predicted_label = np.bincount(nearest_labels).argmax()\n",
        "            predictions.append(predicted_label)\n",
        "\n",
        "        return np.array(predictions)\n",
        "\n",
        "    def score(self, x_test, y_test):\n",
        "        y_pred = self.predict(x_test)\n",
        "        return np.mean(y_pred == y_test)\n",
        "\n",
        "\n",
        "\n",
        "our_knn = knn_manhattan(k = 3)\n",
        "our_knn.fit(X_train, Y_train)\n",
        "our_knn_score = our_knn.score(X_test, Y_test)\n",
        "print(\"our_knn_score:\", our_knn_score)\n"
      ]
    },
    {
      "cell_type": "markdown",
      "metadata": {
        "id": "1xq6Fa4tzxcI"
      },
      "source": [
        "\n",
        "**Write answers to the following questions. Answers have to demonstrate critical thinking. **\n",
        "\n",
        "What is your distance function? Write down the distance equation. (0.5 point)<br/>\n",
        "Answer:\n",
        "\n",
        "The distance function that I chose is the Manhattan Distance also known as the L1 norm. The equation is:\n",
        "         \n",
        "D(x,y) = n∑i=1 |xi - yi|\n",
        "        \n",
        "So, this function computes the total absolute difference between each pixel in two images.  \n",
        "\n",
        "Describe issues with using the L2 norm? Tie your response to the L2 norm equation. (Your answer has to be specific to the task in this assignment. Hint: Since handwritten digits are stored in image data, when a L2 norm KNN woluld have a difficult time classifying this type data; yet, it would be easy for a human to do so?): (2 points)<br/>\n",
        "Answer:\n",
        "\n",
        "One issue with using the L2 norm in handwritten digit classification is that it is very sensitive to small variations in pixel intensity. Especially when these variations spread across many pixels. So the L2 distance formula is:\n",
        "\n",
        "D(x,y) = sqrt(n∑i=1 (xi - yi)^2)\n",
        "\n",
        "This equation squares the difference between each pixel which means that the larger differences have an even bigger impact on the total distance. In handwirtten digits, small shifts in writing style like a slightly thicker stroke or a digit written a few pixels to the left can cause large L2 distances even though the digits are the same to us.\n",
        "\n",
        "As a result, L2 norm may struggle to classify visually similar digits that are written in slightly different ways. Two 3s with minor stroke differences can have a large L2 distance while a 3 and 8 written with similar shape may have a smaller L2 distance because of the way that the pixels line up.\n",
        "\n",
        "What do you think is the reason your distance function performs better, worse, or similarly to L2 norm (has to be specific to the task in this assignment)? (1 point)<br/>\n",
        "Answer:\n",
        "\n",
        "I used the Manhattan distance, and it gave similar results to the L2 norm. This is likely because both methods look at raw pixel values, which can change a lot depending on how someone writes a digit. But the Manhattan distance is a bit more flexible instead of squaring the differences like L2 does, it just adds up how different each pixel is. That means small changes in how the digit is written (like a thicker line or a slight shift) don’t affect the result as much. So even though both methods are similar, Manhattan distance might work a little better for comparing digits that look the same overall but are written a little differently."
      ]
    },
    {
      "cell_type": "markdown",
      "metadata": {
        "id": "mbVroIqIzxcI"
      },
      "source": [
        "\n",
        "### Problem 2\n",
        "\n",
        "In this problem, we will be using the wine classification dataset. Before optimizing our KNN model, it is imperative to understand the properties of our dataset.\n",
        "\n",
        "More information about the dataset is linked below:\n",
        "\n",
        "https://archive.ics.uci.edu/ml/datasets/wine"
      ]
    },
    {
      "cell_type": "code",
      "execution_count": 34,
      "metadata": {
        "colab": {
          "base_uri": "https://localhost:8080/"
        },
        "id": "G7wyV4ibzxcJ",
        "outputId": "0337361f-332c-4a43-9403-76abb292e4f2"
      },
      "outputs": [
        {
          "output_type": "stream",
          "name": "stdout",
          "text": [
            "(178, 13)\n",
            "(178,)\n",
            "feature names: ['alcohol', 'malic_acid', 'ash', 'alcalinity_of_ash', 'magnesium', 'total_phenols', 'flavanoids', 'nonflavanoid_phenols', 'proanthocyanins', 'color_intensity', 'hue', 'od280/od315_of_diluted_wines', 'proline']\n",
            "target names: ['class_0' 'class_1' 'class_2']\n"
          ]
        }
      ],
      "source": [
        "wine = load_wine()\n",
        "X = wine.data\n",
        "print(X.shape)\n",
        "Y = wine.target\n",
        "print(Y.shape)\n",
        "print(\"feature names:\", wine.feature_names)\n",
        "print(\"target names:\", wine.target_names)"
      ]
    },
    {
      "cell_type": "markdown",
      "metadata": {
        "id": "H8-YYGKfzxcJ"
      },
      "source": [
        "#### 2.1  (3 points)\n",
        "\n",
        "Now, let’s classify the wine dataset using our KNN with the L2 norm as the distance function. Choose the optimal k value for this task and record your approach.\n",
        "\n",
        "You might need to change the k value a couple of times to find the one with the highest average test accuracy. Feel free to add a for loop.\n",
        "\n",
        "Since we have limited data, we can use K-folds to assess the performance of our model more accurately.\n",
        "\n",
        "Note: KFold is a tool from Sklearn that helps you prepare your data for k-fold cross-validation (I know, the letter k is a little overused in ML... K-folds, K-NN, K-means...) This line of code creates an instance of the tool with k, the number of folds, which equals 5, meaning each fold is 1/5 the size of the entire dataset. For each fold, we take the fold as the test set and the rest as the training set. When `n_splits` = 5, we will \" train\" the KNN 5 times and \"test\" it 5 times. Exactly which sample goes into which fold is random. (parameter `shuffle = True`)\n",
        "Link to documentation: https://scikit-learn.org/stable/modules/generated/sklearn.model_selection.KFold.html\n",
        "\n",
        "For each k-value, store the accuracy of each test in a list so we can take the average of the accuracy scores. Each accuracyt list should be `n_splits` long. Use the averages to determine which k is the optimal k-value.\n",
        "\n",
        "NOTE: Use the KNN model you built for this task.\n"
      ]
    },
    {
      "cell_type": "code",
      "execution_count": 35,
      "metadata": {
        "colab": {
          "base_uri": "https://localhost:8080/"
        },
        "id": "-UFMfR_KzxcK",
        "outputId": "8707ba12-e944-4fe0-e47e-aacf6fb3ba74"
      },
      "outputs": [
        {
          "output_type": "stream",
          "name": "stdout",
          "text": [
            "k = 1: Average Accuracy = 0.7303\n",
            "k = 2: Average Accuracy = 0.6741\n",
            "k = 3: Average Accuracy = 0.7135\n",
            "k = 4: Average Accuracy = 0.6687\n",
            "k = 5: Average Accuracy = 0.7135\n",
            "k = 6: Average Accuracy = 0.7029\n",
            "k = 7: Average Accuracy = 0.7306\n",
            "k = 8: Average Accuracy = 0.7252\n",
            "k = 9: Average Accuracy = 0.7195\n",
            "k = 10: Average Accuracy = 0.7086\n",
            "k = 11: Average Accuracy = 0.6862\n",
            "k = 12: Average Accuracy = 0.6638\n",
            "k = 13: Average Accuracy = 0.6749\n",
            "k = 14: Average Accuracy = 0.6805\n",
            "k = 15: Average Accuracy = 0.6913\n",
            "k = 16: Average Accuracy = 0.7027\n",
            "k = 17: Average Accuracy = 0.6970\n",
            "k = 18: Average Accuracy = 0.6913\n",
            "k = 19: Average Accuracy = 0.6857\n",
            "k = 20: Average Accuracy = 0.6802\n",
            "\n",
            "Optimal k is 7 with average accuracy 0.7306\n"
          ]
        }
      ],
      "source": [
        "\n",
        "kf = KFold(n_splits=5, shuffle=True, random_state=123) # Do not change the arguments.\n",
        "\n",
        "# Your implementation for finding the optimal k-value below\n",
        "\n",
        "k_range = range(1, 21)\n",
        "average_scores = []\n",
        "\n",
        "for k in k_range:\n",
        "    fold_accuracies = []\n",
        "\n",
        "    for train_index, test_index in kf.split(X):\n",
        "        X_train, X_test = X[train_index], X[test_index]\n",
        "        Y_train, Y_test = Y[train_index], Y[test_index]\n",
        "\n",
        "        model = knn(k)\n",
        "        model.fit(X_train, Y_train)\n",
        "        acc = model.score(X_test, Y_test)\n",
        "        fold_accuracies.append(acc)\n",
        "\n",
        "    avg_accuracy = np.mean(fold_accuracies)\n",
        "    average_scores.append(avg_accuracy)\n",
        "    print(f\"k = {k}: Average Accuracy = {avg_accuracy:.4f}\")\n",
        "\n",
        "best_k = k_range[np.argmax(average_scores)]\n",
        "best_score = max(average_scores)\n",
        "print(f\"\\nOptimal k is {best_k} with average accuracy {best_score:.4f}\")\n",
        "\n",
        "#Got help from Gemini - for syntax"
      ]
    },
    {
      "cell_type": "markdown",
      "metadata": {
        "id": "5T1OEhcuzxcK"
      },
      "source": [
        "\n",
        "#### 2.2 (4 points)\n",
        "Again, we would like to change our distance function to best fit our classification problem. Choose a distance function from what we have listed or use your own. It can be the same one from problem 1.3. Set k equal to the optimal k-value you have found.\n",
        "\n",
        "\n",
        "(It is okay if the new distance function performs worse than using the L2 norm. You just need to write the new distance function and apply KNN to the dataset.)"
      ]
    },
    {
      "cell_type": "code",
      "execution_count": 36,
      "metadata": {
        "colab": {
          "base_uri": "https://localhost:8080/"
        },
        "id": "j6NMMFQTzxcK",
        "outputId": "eb70a161-ab4c-4c07-c0f3-d77bc45124d2"
      },
      "outputs": [
        {
          "output_type": "stream",
          "name": "stdout",
          "text": [
            "Average Accuracy w/ Manhattan distance: 0.7584\n"
          ]
        }
      ],
      "source": [
        "# Python implementation (1.5 points)\n",
        "# You can keep the code you wrote for testing the new distance function.\n",
        "\n",
        "\n",
        "fold_accuracies = []\n",
        "\n",
        "for train_index, test_index in kf.split(X):\n",
        "    X_train, X_test = X[train_index], X[test_index]\n",
        "    Y_train, Y_test = Y[train_index], Y[test_index]\n",
        "\n",
        "    model = knn_manhattan(k=7)\n",
        "    model.fit(X_train, Y_train)\n",
        "    acc = model.score(X_test, Y_test)\n",
        "    fold_accuracies.append(acc)\n",
        "\n",
        "average_accuracy = np.mean(fold_accuracies)\n",
        "print(f\"Average Accuracy w/ Manhattan distance: {average_accuracy:.4f}\")\n",
        "\n",
        "#Got help from Gemini for ideating and syntax"
      ]
    },
    {
      "cell_type": "markdown",
      "metadata": {
        "id": "b69UPfhkzxcK"
      },
      "source": [
        "\n",
        "\n",
        "**Write answers to the following questions**\n",
        "\n",
        "What is your distance function? Write down the distance equation. (0.5 point)<br/>\n",
        "Answer:\n",
        "\n",
        "The distance function that I chose is the Manhattan Distance also known as the L1 norm. The equation is:\n",
        "\n",
        "D(x,y) = n∑i=1 |xi - yi|\n",
        "\n",
        "\n",
        "What do you think is the reason your distance function performs better or worse than the L2 norm? (2 points) (Your answer has to be specific to the task in this assignment. Hint: In this dataset, each feature is a property of a type of wine. When would a L2 norm KNN have a difficult time classifying this data, but easy for a human to do so, assuming we have good taste buds for wine?)<br/>\n",
        "Answer:\n",
        "\n",
        "In this assignment, the L2 norm performed slightly worse/similar than the Manhattan distance, with an accuracy of 0.7306 compared to 0.7584. The Manhattan distance performs slightly better than the L2 norm (Euclidean distance) because Manhattan distance is less sensitive to outliers and large variations in singular features.\n",
        "Each feature in this dataset represents a specific chemical property of the wine. These features may not be on the same scale or may have differing levels of importance. For example, a slight change in alcohol content may impact the taste more than others.\n",
        "I think the L2 norm amplifies large differences in any single feature due to squaring. This might mislead the model if that feature isn’t actually the most important one for classification.\n",
        "On the contrary, Manhattan distance adds up the differences in each feature directly, which makes it less sensitive to outliers. That’s helpful in a task like wine classification, where small differences across properties can add up to a noticeable change.\n",
        "For example, if there was a person experienced with wines, they would judge two different wines by picking up the small variations rather than looking at the one strong difference. In this case, I believe the Manhattan distance might give a balanced comparison between the samples."
      ]
    },
    {
      "cell_type": "markdown",
      "metadata": {
        "id": "napxBEXBzxcL"
      },
      "source": [
        "#### 2.3 (3 points)\n",
        "\n",
        "We can further improve the accuracy of our model by normalizing the dataset.  \n",
        "\n",
        "Data can be normalized using the following equation:\n",
        "\n",
        "$$ x_{ij}^{normalized} = \\frac{x_{ij} -\\mu_{j}}{\\sigma_{j}} $$\n",
        "Where $x_{ij}$ is the value of feature j of sample i,\n",
        "\n",
        "$\\mu_{j} $ and $\\sigma_{j}$ are the mean and the standard deviation of feature j.\n",
        "\n",
        "Normalize the wine dataset using the equation above and apply your KNN model (with the best k-value and distance function you have found) on the normalized dataset.\n",
        "\n",
        "Print the new average test accuracy score after performing k-fold cross-validation."
      ]
    },
    {
      "cell_type": "code",
      "execution_count": 37,
      "metadata": {
        "colab": {
          "base_uri": "https://localhost:8080/"
        },
        "id": "9BF0RxfhzxcL",
        "outputId": "6aa9c665-a301-4ba5-e16d-32c6e152310e"
      },
      "outputs": [
        {
          "output_type": "stream",
          "name": "stdout",
          "text": [
            "New Average Accuracy: 0.9775\n"
          ]
        }
      ],
      "source": [
        "# YOUR CODE HERE:\n",
        "X_mean = np.mean(X, axis=0)\n",
        "X_std = np.std(X, axis=0)\n",
        "X_normalized = (X - X_mean) / X_std\n",
        "\n",
        "fold_accuracies = []\n",
        "\n",
        "for train_idx, test_idx in kf.split(X_normalized):\n",
        "    X_train, X_test = X_normalized[train_idx], X_normalized[test_idx]\n",
        "    Y_train, Y_test = Y[train_idx], Y[test_idx]\n",
        "\n",
        "    model = knn_manhattan(k=1)\n",
        "    model.fit(X_train, Y_train)\n",
        "    fold_accuracies.append(model.score(X_test, Y_test))\n",
        "\n",
        "avg_accuracy = np.mean(fold_accuracies)\n",
        "\n",
        "print(f\"New Average Accuracy: {avg_accuracy:.4f}\")"
      ]
    },
    {
      "cell_type": "markdown",
      "metadata": {
        "id": "0jFpE0I6zxcL"
      },
      "source": [
        "### 2.4 (3 Points)\n",
        "Why do you think normalization can make a large improvement to our classification accuracy? Explain your answer by comparing the feature with the largest variance against the feature with the smallest variance.  You will need to find the feature names of those features. (Hint: see code block right above Q2.1)\n",
        "\n",
        "Normalization can make a large improvement for sure for our classification accuracy because it helps ensure all the features contribute equally to the distance calculation. Without normalization, features with larger variance will take over the result.\n",
        "\n",
        "I think normalization can make a large improvement to the classification accuracy especially when features have widely different variances as seen in this data. So, proline has a variance of 98609.6 and nonflavanoid_phenols has a variance of 0.02. This matters because distance based models can assume that all features are on comparable scales. Without normalization, features like proline with a huge variance is taking over the decision making of the model while features like nonflavanoid_phenols are ignored even if they are crucial or important for classification. This means that the model may perform poorly because it overemphasizes features just because they have large variance values not because they are more informative. So normalization can ensure that smaller features aren't overlooked because these features can have useful information."
      ]
    },
    {
      "cell_type": "markdown",
      "metadata": {
        "id": "hKt-jLBXzxcL"
      },
      "source": []
    },
    {
      "cell_type": "code",
      "execution_count": 38,
      "metadata": {
        "colab": {
          "base_uri": "https://localhost:8080/"
        },
        "id": "3ObfA9gdzxcL",
        "outputId": "ebce7a4e-cc48-43a1-d25b-c7c1944718a9"
      },
      "outputs": [
        {
          "output_type": "stream",
          "name": "stdout",
          "text": [
            "alcohol: 0.66\n",
            "malic_acid: 1.24\n",
            "ash: 0.07\n",
            "alcalinity_of_ash: 11.09\n",
            "magnesium: 202.84\n",
            "total_phenols: 0.39\n",
            "flavanoids: 0.99\n",
            "nonflavanoid_phenols: 0.02\n",
            "proanthocyanins: 0.33\n",
            "color_intensity: 5.34\n",
            "hue: 0.05\n",
            "od280/od315_of_diluted_wines: 0.50\n",
            "proline: 98609.60\n"
          ]
        }
      ],
      "source": [
        "# Use this code block to find the answer above.\n",
        "\n",
        "feature_names = wine.feature_names\n",
        "variances = np.var(X, axis=0)\n",
        "for name, var in zip(feature_names, variances):\n",
        "    print(f\"{name}: {var:.2f}\")"
      ]
    }
  ],
  "metadata": {
    "kernelspec": {
      "display_name": "Python 3 (ipykernel)",
      "language": "python",
      "name": "python3"
    },
    "language_info": {
      "codemirror_mode": {
        "name": "ipython",
        "version": 3
      },
      "file_extension": ".py",
      "mimetype": "text/x-python",
      "name": "python",
      "nbconvert_exporter": "python",
      "pygments_lexer": "ipython3",
      "version": "3.10.5"
    },
    "vscode": {
      "interpreter": {
        "hash": "7b63700a7479ca494b09cb94f65ff43e6df18b3e5067a4f3d4ae63f32d2fcb1e"
      }
    },
    "colab": {
      "provenance": []
    }
  },
  "nbformat": 4,
  "nbformat_minor": 0
}
